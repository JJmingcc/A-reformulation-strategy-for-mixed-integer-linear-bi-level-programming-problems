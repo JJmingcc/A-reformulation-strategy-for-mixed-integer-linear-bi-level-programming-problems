{
 "cells": [
  {
   "cell_type": "code",
   "execution_count": 4,
   "metadata": {},
   "outputs": [],
   "source": [
    "\n",
    "from gurobipy import *\n",
    "import numpy as np\n",
    "import Example_3\n",
    "import example5\n"
   ]
  },
  {
   "cell_type": "code",
   "execution_count": null,
   "metadata": {},
   "outputs": [],
   "source": [
    "K = 15\n",
    "\n",
    "P_F = 150\n",
    "# Notice that if the problem become feasible, it means the optimal solution is found.\n",
    "for i in range(K):\n",
    "    iter = i+1\n",
    "    P_L, xp1, xp2, xq1, xq2, xq3, y_cq1, y_cq2, y_cq3, P_F_temp = example5.BO_E5_func(iter,P_F)\n",
    "    P_F = P_F_temp\n",
    "    global_profit = P_L + P_F\n",
    "\n",
    "    print(\"##################################Interation:\", i+1 , \"##################################\") \n",
    "    print(\"P_L:\", P_L)  \n",
    "    print(\"P_F:\",P_F) \n",
    "    print(\"total profit:\", global_profit)"
   ]
  },
  {
   "cell_type": "code",
   "execution_count": null,
   "metadata": {},
   "outputs": [],
   "source": [
    "K = 15\n",
    "\n",
    "P_F = 100\n",
    "for i in range(K):\n",
    "    iter = i+1\n",
    "    P_L, x1_value, x2_value, x3_value, y1_value, y2_value, y3_value, y_c1_value, y_c2_value, P_F_temp = Example_3.BO_Eample_func(iter,P_F)\n",
    "    P_F = P_F_temp\n",
    "\n",
    "    print(\"##################################Interation:\", i+1, \"##################################\") \n",
    "    print(\"P_L:\", P_L)  \n",
    "    print(\"P_F:\",P_F) \n",
    "    print(\"x1:\" , x1_value)    \n",
    "    print(\"x2:\" , x2_value)    \n",
    "    print(\"x3:\" , x3_value) \n",
    "    print(\"y1:\" , y1_value)    \n",
    "    print(\"y2:\" , y2_value)    \n",
    "    print(\"y3:\" , y3_value)    \n",
    "\n"
   ]
  }
 ],
 "metadata": {
  "kernelspec": {
   "display_name": "Python 3",
   "language": "python",
   "name": "python3"
  },
  "language_info": {
   "codemirror_mode": {
    "name": "ipython",
    "version": 3
   },
   "file_extension": ".py",
   "mimetype": "text/x-python",
   "name": "python",
   "nbconvert_exporter": "python",
   "pygments_lexer": "ipython3",
   "version": "3.9.8"
  }
 },
 "nbformat": 4,
 "nbformat_minor": 2
}
